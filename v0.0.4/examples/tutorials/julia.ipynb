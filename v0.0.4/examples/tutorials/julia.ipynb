{
 "cells": [
  {
   "cell_type": "markdown",
   "source": [
    "## Overview"
   ],
   "metadata": {}
  },
  {
   "cell_type": "markdown",
   "source": [
    "This demo shows how to interact with Julia to get started with `DCCR` experiments."
   ],
   "metadata": {}
  },
  {
   "cell_type": "markdown",
   "source": [
    "## Setup"
   ],
   "metadata": {}
  },
  {
   "cell_type": "markdown",
   "source": [
    "Just as in most languages, dependencies are usually loaded first in Julia scripts.\n",
    "These dependences are included through either `using` or `import` statements:"
   ],
   "metadata": {}
  },
  {
   "outputs": [],
   "cell_type": "code",
   "source": [
    "# `using` brings all of the names that are exported by the package into this context\n",
    "using Dates\n",
    "\n",
    "# `import` simply brings the name itself without exports, so to use sub components\n",
    "import Downloads"
   ],
   "metadata": {},
   "execution_count": 1
  },
  {
   "cell_type": "markdown",
   "source": [
    "## Running Julia Code"
   ],
   "metadata": {}
  },
  {
   "cell_type": "markdown",
   "source": [
    "To run Julia code, open the REPL in a command terminal with `julia`:"
   ],
   "metadata": {}
  },
  {
   "cell_type": "markdown",
   "source": [
    "TODO"
   ],
   "metadata": {}
  },
  {
   "cell_type": "markdown",
   "source": [
    "## Additional Reading"
   ],
   "metadata": {}
  },
  {
   "cell_type": "markdown",
   "source": [
    "This example reveals just the tip of the iceberg of how to write and run Julia code.\n",
    "To learn more about the Julia programming language, see the extensive [Official Julia Documentation](https://docs.julialang.org/en/v1/).\n",
    "The [Manual](https://docs.julialang.org/en/v1/manual/getting-started/) contains all information necessary to understand the syntax and workings of the language itself.\n",
    "The [Base](https://docs.julialang.org/en/v1/base/base/) documentation lists the essential native types and utilities embedded in the language.\n",
    "The [Standard Library](https://docs.julialang.org/en/v1/stdlib/ArgTools/) is a collection of additional packages that are so useful that they are always available in Julia without additional installation."
   ],
   "metadata": {}
  },
  {
   "cell_type": "markdown",
   "source": [
    "---\n",
    "\n",
    "*This notebook was generated using [Literate.jl](https://github.com/fredrikekre/Literate.jl).*"
   ],
   "metadata": {}
  }
 ],
 "nbformat_minor": 3,
 "metadata": {
  "language_info": {
   "file_extension": ".jl",
   "mimetype": "application/julia",
   "name": "julia",
   "version": "1.9.2"
  },
  "kernelspec": {
   "name": "julia-1.9",
   "display_name": "Julia 1.9.2",
   "language": "julia"
  }
 },
 "nbformat": 4
}
